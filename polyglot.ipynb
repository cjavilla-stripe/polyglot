{
 "cells": [
  {
   "cell_type": "code",
   "execution_count": null,
   "metadata": {
    "dotnet_interactive": {
     "language": "csharp"
    }
   },
   "outputs": [
    {
     "data": {
      "text/html": [
       "<div><div></div><div></div><div><strong>Installed Packages</strong><ul><li><span>Stripe.net, 39.92.0</span></li></ul></div></div>"
      ]
     },
     "metadata": {},
     "output_type": "display_data"
    }
   ],
   "source": [
    "#r \"nuget:Stripe.net\"\n",
    "using Stripe;\n",
    "using Stripe.Checkout;\n",
    "using System;\n"
   ]
  },
  {
   "cell_type": "code",
   "execution_count": null,
   "metadata": {
    "dotnet_interactive": {
     "language": "csharp"
    }
   },
   "outputs": [],
   "source": [
    "StripeConfiguration.ApiKey = \"sk_test_51KTY3fG3pPSOzbKUWtd823EVmcI5pY33bXF4sxlo11FOlw87I9HuPYDnCxdBWh0PSGo8AQ7qrhJigAPhTuDPW27W00Oyw5qhN4\";"
   ]
  },
  {
   "cell_type": "code",
   "execution_count": null,
   "metadata": {
    "dotnet_interactive": {
     "language": "csharp"
    }
   },
   "outputs": [
    {
     "name": "stdout",
     "output_type": "stream",
     "text": [
      "https://checkout.stripe.com/pay/cs_test_a1pjXxSVU8jCyvKPZa7Ba6Akq2GdVPy6XwygeKZ7EKeqDz8OhS4iva1Ems#fidkdWxOYHwnPyd1blpxYHZxWjA0TlFcNmNCNnVVVkp%2FZ05QT31vSzZBa29DdklidTY9NkB%2FSnZHN2JpS0RtUGNfQ2NjNUptXXRjV1RBVzxLSktjd1ZqS1dTYU83Q1ZzREMzYGxIfUNrTVdHNTU2NlQ9RlBGNScpJ2N3amhWYHdzYHcnP3F3cGApJ2lkfGpwcVF8dWAnPyd2bGtiaWBabHFgaCcpJ2BrZGdpYFVpZGZgbWppYWB3dic%2FcXdwYHgl\n"
     ]
    }
   ],
   "source": [
    "var options = new SessionCreateOptions\n",
    "      {\n",
    "        LineItems = new List<SessionLineItemOptions>\n",
    "        {\n",
    "          new SessionLineItemOptions\n",
    "          {\n",
    "            PriceData = new SessionLineItemPriceDataOptions\n",
    "            {\n",
    "              UnitAmount = 2000,\n",
    "              Currency = \"usd\",\n",
    "              ProductData = new SessionLineItemPriceDataProductDataOptions\n",
    "              {\n",
    "                Name = \"T-shirt\",\n",
    "              },\n",
    "\n",
    "            },\n",
    "            Quantity = 1,\n",
    "          },\n",
    "        },\n",
    "        Mode = \"payment\",\n",
    "        SuccessUrl = \"https://example.com/success\",\n",
    "        CancelUrl = \"https://example.com/cancel\",\n",
    "      };\n",
    "\n",
    "      var service = new SessionService();\n",
    "      Session session = service.Create(options);\n",
    "\n",
    "      Console.WriteLine(session.Url);"
   ]
  }
 ],
 "metadata": {
  "kernelspec": {
   "display_name": ".NET (C#)",
   "language": "C#",
   "name": ".net-csharp"
  },
  "language_info": {
   "name": "C#"
  }
 },
 "nbformat": 4,
 "nbformat_minor": 2
}
